{
 "cells": [
  {
   "cell_type": "code",
   "execution_count": 1,
   "id": "47b47118",
   "metadata": {},
   "outputs": [],
   "source": [
    "benimAdim = \"Elifnur Altuntaş\""
   ]
  },
  {
   "cell_type": "code",
   "execution_count": 2,
   "id": "ebaacc95",
   "metadata": {},
   "outputs": [
    {
     "data": {
      "text/plain": [
       "'ELIFNUR ALTUNTAŞ'"
      ]
     },
     "execution_count": 2,
     "metadata": {},
     "output_type": "execute_result"
    }
   ],
   "source": [
    "benimAdim.upper() # upper bir fonksiyon. Verilen string içerisindeki bütün harfleri büyük hale getirir."
   ]
  },
  {
   "cell_type": "code",
   "execution_count": 3,
   "id": "0f53a76a",
   "metadata": {},
   "outputs": [
    {
     "data": {
      "text/plain": [
       "'Elifnur Altuntaş'"
      ]
     },
     "execution_count": 3,
     "metadata": {},
     "output_type": "execute_result"
    }
   ],
   "source": [
    "benimAdim"
   ]
  },
  {
   "cell_type": "code",
   "execution_count": 4,
   "id": "bf671942",
   "metadata": {},
   "outputs": [],
   "source": [
    "benimAdimBuyukHarfli = benimAdim.upper()"
   ]
  },
  {
   "cell_type": "code",
   "execution_count": 5,
   "id": "e476e7b3",
   "metadata": {},
   "outputs": [
    {
     "data": {
      "text/plain": [
       "'ELIFNUR ALTUNTAŞ'"
      ]
     },
     "execution_count": 5,
     "metadata": {},
     "output_type": "execute_result"
    }
   ],
   "source": [
    "benimAdimBuyukHarfli"
   ]
  },
  {
   "cell_type": "code",
   "execution_count": 6,
   "id": "1ec3b70a",
   "metadata": {},
   "outputs": [
    {
     "data": {
      "text/plain": [
       "'Elifnur Altuntaş'"
      ]
     },
     "execution_count": 6,
     "metadata": {},
     "output_type": "execute_result"
    }
   ],
   "source": [
    "benimAdim"
   ]
  },
  {
   "cell_type": "code",
   "execution_count": 7,
   "id": "0f68122c",
   "metadata": {},
   "outputs": [
    {
     "name": "stdout",
     "output_type": "stream",
     "text": [
      "Help on built-in function upper:\n",
      "\n",
      "upper() method of builtins.str instance\n",
      "    Return a copy of the string converted to uppercase.\n",
      "\n"
     ]
    }
   ],
   "source": [
    "help(benimAdim.upper) # Type: builtin_function_or_method demek hali hazırda python içinde geliyor. Biz oluşturmadık bunu."
   ]
  },
  {
   "cell_type": "code",
   "execution_count": 8,
   "id": "2ebef701",
   "metadata": {},
   "outputs": [],
   "source": [
    "def ilkFonksiyon():  # Fonksiyonu bir kez yazıp istediğimiz kadar sayıda tekrar çağırabiliriz. Bu da verimli kod yazmamıza olanak sağlar. Ayrıca içerlerine girdi alıp çıktı verebilirler.\n",
    "    print(\"ilk fonksiyonum\")"
   ]
  },
  {
   "cell_type": "code",
   "execution_count": 9,
   "id": "8e9e078f",
   "metadata": {},
   "outputs": [
    {
     "name": "stdout",
     "output_type": "stream",
     "text": [
      "ilk fonksiyonum\n"
     ]
    }
   ],
   "source": [
    "ilkFonksiyon() "
   ]
  },
  {
   "cell_type": "markdown",
   "id": "35211b51",
   "metadata": {},
   "source": [
    "## input & return"
   ]
  },
  {
   "cell_type": "code",
   "execution_count": 10,
   "id": "e8d65afc",
   "metadata": {},
   "outputs": [],
   "source": [
    "def merhabaDunya(yazdirilacakIsim):\n",
    "    print(\"merhaba\")\n",
    "    print(yazdirilacakIsim)"
   ]
  },
  {
   "cell_type": "code",
   "execution_count": 11,
   "id": "47f751b3",
   "metadata": {},
   "outputs": [
    {
     "name": "stdout",
     "output_type": "stream",
     "text": [
      "merhaba\n",
      "elif\n"
     ]
    }
   ],
   "source": [
    "merhabaDunya(\"elif\")"
   ]
  },
  {
   "cell_type": "code",
   "execution_count": 12,
   "id": "99958a02",
   "metadata": {},
   "outputs": [],
   "source": [
    "# Şimdi ise default bir değer tanımlıyoruz. Böylece herhangi bir girdi verilmezse default değer ekrana basılacak :\n",
    "def merhaba(isim = \"Elif\"):\n",
    "    print(\"Merhaba\")\n",
    "    print(isim)"
   ]
  },
  {
   "cell_type": "code",
   "execution_count": 13,
   "id": "4947456e",
   "metadata": {},
   "outputs": [
    {
     "name": "stdout",
     "output_type": "stream",
     "text": [
      "Merhaba\n",
      "Elif\n"
     ]
    }
   ],
   "source": [
    "merhaba()"
   ]
  },
  {
   "cell_type": "code",
   "execution_count": 14,
   "id": "bcd996c1",
   "metadata": {},
   "outputs": [
    {
     "name": "stdout",
     "output_type": "stream",
     "text": [
      "Merhaba\n",
      "Ali\n"
     ]
    }
   ],
   "source": [
    "merhaba(\"Ali\")"
   ]
  },
  {
   "cell_type": "code",
   "execution_count": 15,
   "id": "1b9ba8cd",
   "metadata": {},
   "outputs": [],
   "source": [
    "def toplama(num1, num2):\n",
    "    sonuc = num1 + num2\n",
    "    print(sonuc)"
   ]
  },
  {
   "cell_type": "code",
   "execution_count": 16,
   "id": "6c6c48ed",
   "metadata": {},
   "outputs": [
    {
     "name": "stdout",
     "output_type": "stream",
     "text": [
      "30\n"
     ]
    }
   ],
   "source": [
    "toplama(10,20)"
   ]
  },
  {
   "cell_type": "code",
   "execution_count": 17,
   "id": "72d92cd0",
   "metadata": {},
   "outputs": [
    {
     "name": "stdout",
     "output_type": "stream",
     "text": [
      "150\n"
     ]
    }
   ],
   "source": [
    "toplama(-200,350)"
   ]
  },
  {
   "cell_type": "code",
   "execution_count": 18,
   "id": "5d78479c",
   "metadata": {},
   "outputs": [],
   "source": [
    "def superToplama(num1, num2, num3):\n",
    "    sonuc = num1 + num2 + num3\n",
    "    print(sonuc)"
   ]
  },
  {
   "cell_type": "code",
   "execution_count": 19,
   "id": "f3a52781",
   "metadata": {},
   "outputs": [
    {
     "name": "stdout",
     "output_type": "stream",
     "text": [
      "60\n"
     ]
    }
   ],
   "source": [
    "superToplama(10,20,30)"
   ]
  },
  {
   "cell_type": "code",
   "execution_count": 20,
   "id": "036602e4",
   "metadata": {},
   "outputs": [
    {
     "name": "stdout",
     "output_type": "stream",
     "text": [
      "30\n"
     ]
    }
   ],
   "source": [
    "yeniDegisken = toplama(10,20)"
   ]
  },
  {
   "cell_type": "code",
   "execution_count": 21,
   "id": "16c8a947",
   "metadata": {},
   "outputs": [],
   "source": [
    "yeniDegisken"
   ]
  },
  {
   "cell_type": "code",
   "execution_count": 22,
   "id": "a1a11526",
   "metadata": {},
   "outputs": [
    {
     "name": "stdout",
     "output_type": "stream",
     "text": [
      "None\n"
     ]
    }
   ],
   "source": [
    "print(yeniDegisken) # Çünkü bizim yazdığımız bu toplama fonksiyonu herhangi bir değer döndürmüyor."
   ]
  },
  {
   "cell_type": "code",
   "execution_count": 23,
   "id": "f39426eb",
   "metadata": {},
   "outputs": [],
   "source": [
    "def returnToplama(num1, num2):\n",
    "    return num1 + num2"
   ]
  },
  {
   "cell_type": "code",
   "execution_count": 24,
   "id": "1aa76381",
   "metadata": {},
   "outputs": [
    {
     "data": {
      "text/plain": [
       "30"
      ]
     },
     "execution_count": 24,
     "metadata": {},
     "output_type": "execute_result"
    }
   ],
   "source": [
    "returnToplama(10,20)"
   ]
  },
  {
   "cell_type": "code",
   "execution_count": 25,
   "id": "643bca21",
   "metadata": {},
   "outputs": [],
   "source": [
    "yeniSonuc = returnToplama(10,20)"
   ]
  },
  {
   "cell_type": "code",
   "execution_count": 26,
   "id": "2371dd7e",
   "metadata": {},
   "outputs": [
    {
     "data": {
      "text/plain": [
       "30"
      ]
     },
     "execution_count": 26,
     "metadata": {},
     "output_type": "execute_result"
    }
   ],
   "source": [
    "yeniSonuc"
   ]
  },
  {
   "cell_type": "code",
   "execution_count": 27,
   "id": "617d4849",
   "metadata": {},
   "outputs": [
    {
     "data": {
      "text/plain": [
       "int"
      ]
     },
     "execution_count": 27,
     "metadata": {},
     "output_type": "execute_result"
    }
   ],
   "source": [
    "type(yeniSonuc)"
   ]
  },
  {
   "cell_type": "code",
   "execution_count": 28,
   "id": "cd857ceb",
   "metadata": {},
   "outputs": [],
   "source": [
    "def kontrolFonksiyon(s):\n",
    "    if s == \"atıl\":\n",
    "        print(\"verdiğiniz string atıl\")\n",
    "    else:\n",
    "        print(\"verdiğimiz string başka bir şey\")"
   ]
  },
  {
   "cell_type": "code",
   "execution_count": 29,
   "id": "9073be3b",
   "metadata": {},
   "outputs": [
    {
     "name": "stdout",
     "output_type": "stream",
     "text": [
      "verdiğiniz string atıl\n"
     ]
    }
   ],
   "source": [
    "kontrolFonksiyon(\"atıl\")"
   ]
  },
  {
   "cell_type": "code",
   "execution_count": 30,
   "id": "d469adf0",
   "metadata": {},
   "outputs": [
    {
     "name": "stdout",
     "output_type": "stream",
     "text": [
      "verdiğimiz string başka bir şey\n"
     ]
    }
   ],
   "source": [
    "kontrolFonksiyon(\"python\")"
   ]
  },
  {
   "cell_type": "code",
   "execution_count": 31,
   "id": "b1f6c782",
   "metadata": {},
   "outputs": [],
   "source": [
    "# Metod : Sınıflar içinde kullandığımız fonksiyonlardır."
   ]
  },
  {
   "cell_type": "markdown",
   "id": "d2c5a178",
   "metadata": {},
   "source": [
    "## args & kwargs"
   ]
  },
  {
   "cell_type": "code",
   "execution_count": 31,
   "id": "c7cc5f69",
   "metadata": {},
   "outputs": [],
   "source": [
    "# *args => Tuple listeleri kabul edilir. Bize tuple listesi döndürür."
   ]
  },
  {
   "cell_type": "code",
   "execution_count": 32,
   "id": "294b6aed",
   "metadata": {},
   "outputs": [
    {
     "data": {
      "text/plain": [
       "210"
      ]
     },
     "execution_count": 32,
     "metadata": {},
     "output_type": "execute_result"
    }
   ],
   "source": [
    "def newSum(*args):\n",
    "    return sum(args)\n",
    "\n",
    "newSum(10,20,30,40,50,60)"
   ]
  },
  {
   "cell_type": "code",
   "execution_count": 33,
   "id": "c86a0669",
   "metadata": {},
   "outputs": [
    {
     "data": {
      "text/plain": [
       "-250"
      ]
     },
     "execution_count": 33,
     "metadata": {},
     "output_type": "execute_result"
    }
   ],
   "source": [
    "newSum(100,-350)"
   ]
  },
  {
   "cell_type": "code",
   "execution_count": 34,
   "id": "e4bd7096",
   "metadata": {},
   "outputs": [],
   "source": [
    "def benimFonksiyonum(*args):\n",
    "    return args"
   ]
  },
  {
   "cell_type": "code",
   "execution_count": 35,
   "id": "4d71d606",
   "metadata": {},
   "outputs": [
    {
     "data": {
      "text/plain": [
       "tuple"
      ]
     },
     "execution_count": 35,
     "metadata": {},
     "output_type": "execute_result"
    }
   ],
   "source": [
    "type(benimFonksiyonum(20,30,40))  # Sonucunda benimFonksiyonum(20,30,40) fonksiyonunun tuple döndürdüğünü görürüz.\n",
    "# Yukarıda yapılan return işlemi tuple'ı bir değişkene kaydetmemize olanak tanır."
   ]
  },
  {
   "cell_type": "code",
   "execution_count": 36,
   "id": "8a2dc86d",
   "metadata": {},
   "outputs": [],
   "source": [
    "def ornekFonksiyon(**kwargs): # **kwargs bize dictionary döndürür.\n",
    "    print(kwargs)"
   ]
  },
  {
   "cell_type": "code",
   "execution_count": 37,
   "id": "d6f58367",
   "metadata": {},
   "outputs": [
    {
     "name": "stdout",
     "output_type": "stream",
     "text": [
      "{'muz': 100, 'elma': 200, 'ananas': 300}\n"
     ]
    }
   ],
   "source": [
    "ornekFonksiyon(muz = 100, elma = 200, ananas = 300)"
   ]
  },
  {
   "cell_type": "code",
   "execution_count": 38,
   "id": "32c9446c",
   "metadata": {},
   "outputs": [],
   "source": [
    "def ornekFonksiyon(**kwargs): # **kwargs bize dictionary döndürür.\n",
    "    return(kwargs)"
   ]
  },
  {
   "cell_type": "code",
   "execution_count": 39,
   "id": "ca9b8250",
   "metadata": {},
   "outputs": [
    {
     "data": {
      "text/plain": [
       "dict"
      ]
     },
     "execution_count": 39,
     "metadata": {},
     "output_type": "execute_result"
    }
   ],
   "source": [
    "type(ornekFonksiyon(muz = 100, elma = 200, ananas = 300))"
   ]
  },
  {
   "cell_type": "code",
   "execution_count": 40,
   "id": "126b0c04",
   "metadata": {},
   "outputs": [
    {
     "data": {
      "text/plain": [
       "{'muz': 100, 'elma': 200, 'ananas': 300}"
      ]
     },
     "execution_count": 40,
     "metadata": {},
     "output_type": "execute_result"
    }
   ],
   "source": [
    "ornekFonksiyon(muz = 100, elma = 200, ananas = 300)"
   ]
  },
  {
   "cell_type": "code",
   "execution_count": 41,
   "id": "703c9b63",
   "metadata": {},
   "outputs": [],
   "source": [
    "sonuc = ornekFonksiyon(muz = 100, elma = 200, ananas = 300)"
   ]
  },
  {
   "cell_type": "code",
   "execution_count": 42,
   "id": "6e31666c",
   "metadata": {},
   "outputs": [
    {
     "data": {
      "text/plain": [
       "{'muz': 100, 'elma': 200, 'ananas': 300}"
      ]
     },
     "execution_count": 42,
     "metadata": {},
     "output_type": "execute_result"
    }
   ],
   "source": [
    "sonuc"
   ]
  },
  {
   "cell_type": "code",
   "execution_count": 43,
   "id": "b78bfe76",
   "metadata": {},
   "outputs": [],
   "source": [
    "def keyWordKontrolu(**kwargs):\n",
    "    if \"atıl\" in kwargs:\n",
    "        print(\"atıl var\")\n",
    "    else:\n",
    "        print(\"atıl yok\")"
   ]
  },
  {
   "cell_type": "code",
   "execution_count": 44,
   "id": "ac0b67b4",
   "metadata": {},
   "outputs": [
    {
     "name": "stdout",
     "output_type": "stream",
     "text": [
      "atıl var\n"
     ]
    }
   ],
   "source": [
    "keyWordKontrolu(atıl = 70, zeynep = 50, mehmet = 40)"
   ]
  },
  {
   "cell_type": "code",
   "execution_count": 45,
   "id": "ee41d74e",
   "metadata": {},
   "outputs": [
    {
     "name": "stdout",
     "output_type": "stream",
     "text": [
      "atıl var\n"
     ]
    }
   ],
   "source": [
    "keyWordKontrolu(atıl = 70 , zeynep = 50, mehmet = 3 )"
   ]
  },
  {
   "cell_type": "code",
   "execution_count": 46,
   "id": "32989889",
   "metadata": {},
   "outputs": [
    {
     "name": "stdout",
     "output_type": "stream",
     "text": [
      "atıl yok\n"
     ]
    }
   ],
   "source": [
    "keyWordKontrolu(esra = 70 , zehra = 25)"
   ]
  },
  {
   "cell_type": "code",
   "execution_count": 47,
   "id": "df4da2ae",
   "metadata": {},
   "outputs": [],
   "source": [
    "def ornekFonksiyon2(*args):\n",
    "    print(args)"
   ]
  },
  {
   "cell_type": "code",
   "execution_count": 48,
   "id": "c91c00f8",
   "metadata": {},
   "outputs": [
    {
     "name": "stdout",
     "output_type": "stream",
     "text": [
      "(10, 20, 30)\n"
     ]
    }
   ],
   "source": [
    "ornekFonksiyon2(10,20,30) # tuple listesini verir."
   ]
  },
  {
   "cell_type": "code",
   "execution_count": 49,
   "id": "811271aa",
   "metadata": {},
   "outputs": [
    {
     "name": "stdout",
     "output_type": "stream",
     "text": [
      "(10, 20, 30)\n"
     ]
    },
    {
     "data": {
      "text/plain": [
       "NoneType"
      ]
     },
     "execution_count": 49,
     "metadata": {},
     "output_type": "execute_result"
    }
   ],
   "source": [
    "type(ornekFonksiyon2(10,20,30)) # type yapınca none verir. Çünkü geriye return ile bir şey döndürmez."
   ]
  },
  {
   "cell_type": "code",
   "execution_count": 50,
   "id": "bbaa4164",
   "metadata": {},
   "outputs": [],
   "source": [
    "def ornekFonksiyon2(*args):\n",
    "    return (args)"
   ]
  },
  {
   "cell_type": "code",
   "execution_count": 51,
   "id": "3fbc8e68",
   "metadata": {},
   "outputs": [
    {
     "data": {
      "text/plain": [
       "tuple"
      ]
     },
     "execution_count": 51,
     "metadata": {},
     "output_type": "execute_result"
    }
   ],
   "source": [
    "type(ornekFonksiyon2(10,20,30))"
   ]
  },
  {
   "cell_type": "code",
   "execution_count": null,
   "id": "485f2aff",
   "metadata": {},
   "outputs": [],
   "source": []
  }
 ],
 "metadata": {
  "kernelspec": {
   "display_name": "Python 3 (ipykernel)",
   "language": "python",
   "name": "python3"
  },
  "language_info": {
   "codemirror_mode": {
    "name": "ipython",
    "version": 3
   },
   "file_extension": ".py",
   "mimetype": "text/x-python",
   "name": "python",
   "nbconvert_exporter": "python",
   "pygments_lexer": "ipython3",
   "version": "3.9.12"
  }
 },
 "nbformat": 4,
 "nbformat_minor": 5
}
