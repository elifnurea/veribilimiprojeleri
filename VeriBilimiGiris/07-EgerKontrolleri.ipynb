{
 "cells": [
  {
   "cell_type": "code",
   "execution_count": 2,
   "id": "2a996192",
   "metadata": {},
   "outputs": [
    {
     "name": "stdout",
     "output_type": "stream",
     "text": [
      "elifnur altuntaş\n"
     ]
    }
   ],
   "source": [
    "if 3 > 1:\n",
    "    print(\"elifnur altuntaş\")"
   ]
  },
  {
   "cell_type": "code",
   "execution_count": 6,
   "id": "e0d0b6ed",
   "metadata": {},
   "outputs": [
    {
     "name": "stdout",
     "output_type": "stream",
     "text": [
      "if koşulunun dışına çıkıldı. Her şekilde çalıştırılacak.\n"
     ]
    }
   ],
   "source": [
    "if 3 > 4: # sadece buradaki koşul sağlanırsa bu kod bloğu altındaki kod çalışır.\n",
    "    print(\"elifnur altuntaş\")\n",
    "    print(\"if koşulu sağlandı\")\n",
    "print(\"if koşulunun dışına çıkıldı. Her şekilde çalıştırılacak.\") # Bu normal bir kod. İf bloğu ile hiç alakası yok."
   ]
  },
  {
   "cell_type": "code",
   "execution_count": 21,
   "id": "51443cab",
   "metadata": {},
   "outputs": [],
   "source": [
    "x = 4"
   ]
  },
  {
   "cell_type": "code",
   "execution_count": 22,
   "id": "6d91fe34",
   "metadata": {},
   "outputs": [],
   "source": [
    "y = 4"
   ]
  },
  {
   "cell_type": "code",
   "execution_count": 23,
   "id": "96f39b86",
   "metadata": {},
   "outputs": [
    {
     "name": "stdout",
     "output_type": "stream",
     "text": [
      "y ve x birbirine eşitmiş.\n"
     ]
    }
   ],
   "source": [
    "if x > y:\n",
    "    print(\"x, y'den daha büyükmüş.\")\n",
    "elif y > x:\n",
    "    print(\"y, x'den daha büyükmüş.\")\n",
    "else: # or elif x == y:\n",
    "    print(\"y ve x birbirine eşitmiş.\")"
   ]
  },
  {
   "cell_type": "code",
   "execution_count": 38,
   "id": "39370a96",
   "metadata": {},
   "outputs": [
    {
     "name": "stdout",
     "output_type": "stream",
     "text": [
      "Super kahraman seçiniz: Aquaman\n"
     ]
    }
   ],
   "source": [
    "benimKahramanim = input(\"Super kahraman seçiniz: \")"
   ]
  },
  {
   "cell_type": "code",
   "execution_count": 39,
   "id": "b5885db1",
   "metadata": {},
   "outputs": [
    {
     "name": "stdout",
     "output_type": "stream",
     "text": [
      "Bu kahraman kim gerçekten tanımıyoruz.\n"
     ]
    }
   ],
   "source": [
    "if benimKahramanim == \"Batman\":\n",
    "    print(\"Batman'i seçtiniz tebrikler...\")\n",
    "elif benimKahramanim == \"Superman\":\n",
    "    print(\"Keşke Batman'i seçseydiniz.\")\n",
    "elif benimKahramanim == \"Ironman\":\n",
    "    print(\"Ironman kimdir ?\")\n",
    "else:\n",
    "    print(\"Bu kahraman kim gerçekten tanımıyoruz.\")"
   ]
  },
  {
   "cell_type": "code",
   "execution_count": 40,
   "id": "8b6e27c5",
   "metadata": {},
   "outputs": [],
   "source": [
    "a = 10\n",
    "b = 20\n",
    "c = 30"
   ]
  },
  {
   "cell_type": "code",
   "execution_count": 42,
   "id": "bc95bfad",
   "metadata": {},
   "outputs": [
    {
     "name": "stdout",
     "output_type": "stream",
     "text": [
      "a, b'den küçük ve b de c'den küçük\n"
     ]
    }
   ],
   "source": [
    "if a > b and b > c:\n",
    "    print(\"a, b'den büyük ve b de c'den büyük\")\n",
    "elif a < b and b < c:\n",
    "    print(\"a, b'den küçük ve b de c'den küçük\")\n",
    "else:\n",
    "    print(\"hiçbir koşul sağlanamıyor\")"
   ]
  },
  {
   "cell_type": "code",
   "execution_count": 49,
   "id": "d89793c5",
   "metadata": {},
   "outputs": [],
   "source": [
    "m = 10\n",
    "k = 4\n",
    "l = 5"
   ]
  },
  {
   "cell_type": "code",
   "execution_count": 50,
   "id": "006f89c8",
   "metadata": {},
   "outputs": [
    {
     "name": "stdout",
     "output_type": "stream",
     "text": [
      "bu çalıştırılacak mı ?\n"
     ]
    }
   ],
   "source": [
    "if m > k or k > l:\n",
    "    print(\"bu çalıştırılacak mı ?\")"
   ]
  },
  {
   "cell_type": "code",
   "execution_count": 56,
   "id": "aa14e72f",
   "metadata": {},
   "outputs": [],
   "source": [
    "karakterCanli = True"
   ]
  },
  {
   "cell_type": "code",
   "execution_count": 57,
   "id": "21f714c6",
   "metadata": {},
   "outputs": [
    {
     "name": "stdout",
     "output_type": "stream",
     "text": [
      "Oyun karakteriniz yaşıyor.\n"
     ]
    }
   ],
   "source": [
    "# 1. yol\n",
    "if karakterCanli == True:\n",
    "    print(\"Oyun karakteriniz yaşıyor.\")\n",
    "else:\n",
    "    print(\"Oyun karakteriniz yaşamıyor.\")"
   ]
  },
  {
   "cell_type": "code",
   "execution_count": 58,
   "id": "7c603551",
   "metadata": {},
   "outputs": [
    {
     "name": "stdout",
     "output_type": "stream",
     "text": [
      "Oyun karakteriniz yaşıyor.\n"
     ]
    }
   ],
   "source": [
    "# 2. yol daha mantıklı\n",
    "if karakterCanli:\n",
    "    print(\"Oyun karakteriniz yaşıyor.\")\n",
    "else:\n",
    "    print(\"Oyun karakteriniz yaşamıyor.\")"
   ]
  },
  {
   "cell_type": "code",
   "execution_count": 59,
   "id": "b6dbd272",
   "metadata": {},
   "outputs": [
    {
     "name": "stdout",
     "output_type": "stream",
     "text": [
      "Oyun karakteriniz yaşamıyor.\n"
     ]
    }
   ],
   "source": [
    "karakterCanli = False\n",
    "if karakterCanli:\n",
    "    print(\"Oyun karakteriniz yaşıyor.\")\n",
    "else:\n",
    "    print(\"Oyun karakteriniz yaşamıyor.\")"
   ]
  },
  {
   "cell_type": "code",
   "execution_count": 60,
   "id": "6bb91e3c",
   "metadata": {},
   "outputs": [],
   "source": [
    "benimString = \"Elifnur Altuntaş\""
   ]
  },
  {
   "cell_type": "code",
   "execution_count": 61,
   "id": "09a6f379",
   "metadata": {},
   "outputs": [
    {
     "name": "stdout",
     "output_type": "stream",
     "text": [
      "eşit değilmiş\n"
     ]
    }
   ],
   "source": [
    "if benimString == \"Elifnur altuntaş\":\n",
    "    print(\"eşitmiş\")\n",
    "else:\n",
    "    print(\"eşit değilmiş\")"
   ]
  },
  {
   "cell_type": "code",
   "execution_count": 62,
   "id": "a7d427c7",
   "metadata": {},
   "outputs": [
    {
     "name": "stdout",
     "output_type": "stream",
     "text": [
      "varmış\n"
     ]
    }
   ],
   "source": [
    "if \"Altuntaş\" in benimString:\n",
    "    print(\"varmış\")\n",
    "else:\n",
    "    print(\"yokmuş\")"
   ]
  },
  {
   "cell_type": "code",
   "execution_count": 63,
   "id": "f07457c0",
   "metadata": {},
   "outputs": [
    {
     "name": "stdout",
     "output_type": "stream",
     "text": [
      "varmış\n"
     ]
    }
   ],
   "source": [
    "if \"untaş\" in benimString:\n",
    "    print(\"varmış\")\n",
    "else:\n",
    "    print(\"yokmuş\")"
   ]
  },
  {
   "cell_type": "code",
   "execution_count": 64,
   "id": "87831b02",
   "metadata": {},
   "outputs": [],
   "source": [
    "benimListem = [10,20,30,40,50]"
   ]
  },
  {
   "cell_type": "code",
   "execution_count": 65,
   "id": "3c213408",
   "metadata": {},
   "outputs": [
    {
     "name": "stdout",
     "output_type": "stream",
     "text": [
      "evet var\n"
     ]
    }
   ],
   "source": [
    "if 10 in benimListem:\n",
    "    print(\"evet var\")"
   ]
  },
  {
   "cell_type": "code",
   "execution_count": 66,
   "id": "839d3574",
   "metadata": {},
   "outputs": [],
   "source": [
    "if 60 in benimListem:\n",
    "    print(\"evet var\")"
   ]
  },
  {
   "cell_type": "code",
   "execution_count": 67,
   "id": "7a88d2cb",
   "metadata": {},
   "outputs": [],
   "source": [
    "benimSozluk = {\"muz\" : 100, \"elma\" : 150, \"karpuz\" : 500}"
   ]
  },
  {
   "cell_type": "code",
   "execution_count": 68,
   "id": "347778d9",
   "metadata": {},
   "outputs": [
    {
     "data": {
      "text/plain": [
       "dict_keys(['muz', 'elma', 'karpuz'])"
      ]
     },
     "execution_count": 68,
     "metadata": {},
     "output_type": "execute_result"
    }
   ],
   "source": [
    "benimSozluk.keys() # sadece anahtarlarının listesini aldı."
   ]
  },
  {
   "cell_type": "code",
   "execution_count": 69,
   "id": "d16815a5",
   "metadata": {},
   "outputs": [
    {
     "name": "stdout",
     "output_type": "stream",
     "text": [
      "varmış\n"
     ]
    }
   ],
   "source": [
    "if \"muz\" in benimSozluk.keys():\n",
    "    print(\"varmış\")"
   ]
  },
  {
   "cell_type": "code",
   "execution_count": 76,
   "id": "5a914644",
   "metadata": {},
   "outputs": [
    {
     "data": {
      "text/plain": [
       "dict_values([100, 150, 500])"
      ]
     },
     "execution_count": 76,
     "metadata": {},
     "output_type": "execute_result"
    }
   ],
   "source": [
    "benimSozluk.values()"
   ]
  },
  {
   "cell_type": "code",
   "execution_count": 77,
   "id": "a1e6cb3e",
   "metadata": {},
   "outputs": [
    {
     "name": "stdout",
     "output_type": "stream",
     "text": [
      "varmış\n"
     ]
    }
   ],
   "source": [
    "if 150 in benimSozluk.values():\n",
    "    print(\"varmış\")"
   ]
  },
  {
   "cell_type": "code",
   "execution_count": 79,
   "id": "8dc836db",
   "metadata": {},
   "outputs": [],
   "source": [
    "if 700 in benimSozluk.values():\n",
    "    print(\"varmış\")"
   ]
  },
  {
   "cell_type": "code",
   "execution_count": null,
   "id": "c3bd84ef",
   "metadata": {},
   "outputs": [],
   "source": []
  }
 ],
 "metadata": {
  "kernelspec": {
   "display_name": "Python 3 (ipykernel)",
   "language": "python",
   "name": "python3"
  },
  "language_info": {
   "codemirror_mode": {
    "name": "ipython",
    "version": 3
   },
   "file_extension": ".py",
   "mimetype": "text/x-python",
   "name": "python",
   "nbconvert_exporter": "python",
   "pygments_lexer": "ipython3",
   "version": "3.9.12"
  }
 },
 "nbformat": 4,
 "nbformat_minor": 5
}
