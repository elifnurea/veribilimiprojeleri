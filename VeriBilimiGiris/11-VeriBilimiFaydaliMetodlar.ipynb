{
 "cells": [
  {
   "cell_type": "code",
   "execution_count": 1,
   "id": "c4a7e53b",
   "metadata": {},
   "outputs": [],
   "source": [
    "benimListem = [0,1,2,3,4,5,6]"
   ]
  },
  {
   "cell_type": "code",
   "execution_count": 2,
   "id": "42b5e52e",
   "metadata": {},
   "outputs": [
    {
     "name": "stdout",
     "output_type": "stream",
     "text": [
      "0\n",
      "1\n",
      "2\n",
      "3\n",
      "4\n",
      "5\n",
      "6\n"
     ]
    }
   ],
   "source": [
    "for numara in benimListem:\n",
    "    print(numara)"
   ]
  },
  {
   "cell_type": "markdown",
   "id": "d1cd1f4d",
   "metadata": {},
   "source": [
    "## range"
   ]
  },
  {
   "cell_type": "code",
   "execution_count": 3,
   "id": "0396fb31",
   "metadata": {},
   "outputs": [
    {
     "data": {
      "text/plain": [
       "range(0, 15)"
      ]
     },
     "execution_count": 3,
     "metadata": {},
     "output_type": "execute_result"
    }
   ],
   "source": [
    "range(15)"
   ]
  },
  {
   "cell_type": "code",
   "execution_count": 4,
   "id": "309d6dd3",
   "metadata": {},
   "outputs": [
    {
     "data": {
      "text/plain": [
       "[0, 1, 2, 3, 4, 5, 6, 7, 8, 9, 10, 11, 12, 13, 14]"
      ]
     },
     "execution_count": 4,
     "metadata": {},
     "output_type": "execute_result"
    }
   ],
   "source": [
    "list(range(15)) # 0 dahil 15 hariç"
   ]
  },
  {
   "cell_type": "code",
   "execution_count": 5,
   "id": "f1bd955d",
   "metadata": {},
   "outputs": [
    {
     "data": {
      "text/plain": [
       "[0, 2, 4, 6, 8, 10, 12, 14]"
      ]
     },
     "execution_count": 5,
     "metadata": {},
     "output_type": "execute_result"
    }
   ],
   "source": [
    "list(range(0,16,2))"
   ]
  },
  {
   "cell_type": "code",
   "execution_count": 6,
   "id": "b05ea6bc",
   "metadata": {},
   "outputs": [
    {
     "name": "stdout",
     "output_type": "stream",
     "text": [
      "0\n",
      "5\n",
      "10\n",
      "15\n",
      "20\n",
      "25\n",
      "30\n",
      "35\n",
      "40\n",
      "45\n",
      "50\n",
      "55\n",
      "60\n",
      "65\n",
      "70\n"
     ]
    }
   ],
   "source": [
    "for num in list(range(15)):\n",
    "    print(num * 5)"
   ]
  },
  {
   "cell_type": "code",
   "execution_count": 7,
   "id": "58f42d7d",
   "metadata": {},
   "outputs": [
    {
     "data": {
      "text/plain": [
       "[5, 9, 13, 17, 21]"
      ]
     },
     "execution_count": 7,
     "metadata": {},
     "output_type": "execute_result"
    }
   ],
   "source": [
    "list(range(5,22,4))"
   ]
  },
  {
   "cell_type": "markdown",
   "id": "3943fe43",
   "metadata": {},
   "source": [
    "## enumerate"
   ]
  },
  {
   "cell_type": "code",
   "execution_count": 8,
   "id": "e273d5ea",
   "metadata": {},
   "outputs": [
    {
     "name": "stdout",
     "output_type": "stream",
     "text": [
      "Güncel numara: 5 güncel index: 0\n",
      "Güncel numara: 6 güncel index: 1\n",
      "Güncel numara: 7 güncel index: 2\n",
      "Güncel numara: 8 güncel index: 3\n",
      "Güncel numara: 9 güncel index: 4\n",
      "Güncel numara: 10 güncel index: 5\n",
      "Güncel numara: 11 güncel index: 6\n",
      "Güncel numara: 12 güncel index: 7\n",
      "Güncel numara: 13 güncel index: 8\n",
      "Güncel numara: 14 güncel index: 9\n"
     ]
    }
   ],
   "source": [
    "index = 0\n",
    "for num in list(range(5,15)):\n",
    "    print(f\"Güncel numara: {num} güncel index: {index}\")\n",
    "    index = index + 1"
   ]
  },
  {
   "cell_type": "code",
   "execution_count": 12,
   "id": "45fa0769",
   "metadata": {},
   "outputs": [
    {
     "name": "stdout",
     "output_type": "stream",
     "text": [
      "(0,5)\n",
      "(1,6)\n",
      "(2,7)\n",
      "(3,8)\n",
      "(4,9)\n",
      "(5,10)\n",
      "(6,11)\n",
      "(7,12)\n",
      "(8,13)\n",
      "(9,14)\n"
     ]
    }
   ],
   "source": [
    "index = 0\n",
    "for num in list(range(5,15)):\n",
    "    print(f\"({index},{num})\")\n",
    "    # print((index,num))\n",
    "    index = index + 1"
   ]
  },
  {
   "cell_type": "code",
   "execution_count": 13,
   "id": "7dc81eb6",
   "metadata": {},
   "outputs": [
    {
     "name": "stdout",
     "output_type": "stream",
     "text": [
      "(0, 5)\n",
      "(1, 6)\n",
      "(2, 7)\n",
      "(3, 8)\n",
      "(4, 9)\n",
      "(5, 10)\n",
      "(6, 11)\n",
      "(7, 12)\n",
      "(8, 13)\n",
      "(9, 14)\n"
     ]
    }
   ],
   "source": [
    "for eleman in enumerate(list(range(5,15))):\n",
    "    print(eleman)"
   ]
  },
  {
   "cell_type": "code",
   "execution_count": 14,
   "id": "7efcb38b",
   "metadata": {},
   "outputs": [
    {
     "name": "stdout",
     "output_type": "stream",
     "text": [
      "5\n",
      "6\n",
      "7\n",
      "8\n",
      "9\n",
      "10\n",
      "11\n",
      "12\n",
      "13\n",
      "14\n"
     ]
    }
   ],
   "source": [
    "for (index,numara) in enumerate(list(range(5,15))):\n",
    "    print(numara)"
   ]
  },
  {
   "cell_type": "markdown",
   "id": "3d2fcf2e",
   "metadata": {},
   "source": [
    "## random"
   ]
  },
  {
   "cell_type": "code",
   "execution_count": 15,
   "id": "09a6cffb",
   "metadata": {},
   "outputs": [],
   "source": [
    "from random import randint # random kütüphanesi içerisinden randint fonksiyonunu kullan."
   ]
  },
  {
   "cell_type": "code",
   "execution_count": 16,
   "id": "d4182cff",
   "metadata": {},
   "outputs": [
    {
     "data": {
      "text/plain": [
       "7"
      ]
     },
     "execution_count": 16,
     "metadata": {},
     "output_type": "execute_result"
    }
   ],
   "source": [
    "randint(3,9) # verilen kapsam içerisinde rastgele sayı döndürür. 3 ve 9 dahildir."
   ]
  },
  {
   "cell_type": "code",
   "execution_count": 17,
   "id": "499c77b7",
   "metadata": {},
   "outputs": [
    {
     "data": {
      "text/plain": [
       "8"
      ]
     },
     "execution_count": 17,
     "metadata": {},
     "output_type": "execute_result"
    }
   ],
   "source": [
    "randint(3,9)"
   ]
  },
  {
   "cell_type": "code",
   "execution_count": 18,
   "id": "2599de0c",
   "metadata": {},
   "outputs": [
    {
     "data": {
      "text/plain": [
       "5"
      ]
     },
     "execution_count": 18,
     "metadata": {},
     "output_type": "execute_result"
    }
   ],
   "source": [
    "randint(3,9)"
   ]
  },
  {
   "cell_type": "code",
   "execution_count": 19,
   "id": "4201c982",
   "metadata": {},
   "outputs": [
    {
     "data": {
      "text/plain": [
       "7"
      ]
     },
     "execution_count": 19,
     "metadata": {},
     "output_type": "execute_result"
    }
   ],
   "source": [
    "randint(3,9)"
   ]
  },
  {
   "cell_type": "code",
   "execution_count": 20,
   "id": "09c778e8",
   "metadata": {},
   "outputs": [
    {
     "data": {
      "text/plain": [
       "3"
      ]
     },
     "execution_count": 20,
     "metadata": {},
     "output_type": "execute_result"
    }
   ],
   "source": [
    "randint(3,9)"
   ]
  },
  {
   "cell_type": "code",
   "execution_count": 21,
   "id": "1cd014aa",
   "metadata": {},
   "outputs": [],
   "source": [
    "yeniListe = list(range(0,10))"
   ]
  },
  {
   "cell_type": "code",
   "execution_count": 22,
   "id": "87ba3719",
   "metadata": {},
   "outputs": [
    {
     "data": {
      "text/plain": [
       "[0, 1, 2, 3, 4, 5, 6, 7, 8, 9]"
      ]
     },
     "execution_count": 22,
     "metadata": {},
     "output_type": "execute_result"
    }
   ],
   "source": [
    "yeniListe"
   ]
  },
  {
   "cell_type": "code",
   "execution_count": 37,
   "id": "1c3065e2",
   "metadata": {},
   "outputs": [
    {
     "data": {
      "text/plain": [
       "0"
      ]
     },
     "execution_count": 37,
     "metadata": {},
     "output_type": "execute_result"
    }
   ],
   "source": [
    "yeniListe[randint(0,9)]"
   ]
  },
  {
   "cell_type": "code",
   "execution_count": 38,
   "id": "d3088d24",
   "metadata": {},
   "outputs": [],
   "source": [
    "from random import shuffle"
   ]
  },
  {
   "cell_type": "code",
   "execution_count": 39,
   "id": "96e72e16",
   "metadata": {},
   "outputs": [],
   "source": [
    "shuffle(yeniListe)"
   ]
  },
  {
   "cell_type": "code",
   "execution_count": 40,
   "id": "c6a55509",
   "metadata": {},
   "outputs": [
    {
     "data": {
      "text/plain": [
       "[8, 5, 4, 0, 6, 9, 7, 2, 1, 3]"
      ]
     },
     "execution_count": 40,
     "metadata": {},
     "output_type": "execute_result"
    }
   ],
   "source": [
    "yeniListe"
   ]
  },
  {
   "cell_type": "code",
   "execution_count": 41,
   "id": "00ca1282",
   "metadata": {},
   "outputs": [],
   "source": [
    "# Tuple daha az bellek tutar. Tuple daha hızlıdır, list daha yavaştır."
   ]
  },
  {
   "cell_type": "markdown",
   "id": "fcb9b20a",
   "metadata": {},
   "source": [
    "## zip"
   ]
  },
  {
   "cell_type": "code",
   "execution_count": 25,
   "id": "dbc9fed8",
   "metadata": {},
   "outputs": [],
   "source": [
    "# mesela 3 tane listeyi birbirine bağlamak(compress) için zip kullanırız :\n",
    "yemekListesi = [\"muz\",\"ananas\",\"elma\"]\n",
    "kaloriListesi = [100,200,300]\n",
    "gunListesi = [\"pazartesi\",\"salı\",\"çarşamba\"]"
   ]
  },
  {
   "cell_type": "code",
   "execution_count": 26,
   "id": "a3fdd08c",
   "metadata": {},
   "outputs": [
    {
     "data": {
      "text/plain": [
       "[('muz', 100, 'pazartesi'), ('ananas', 200, 'salı'), ('elma', 300, 'çarşamba')]"
      ]
     },
     "execution_count": 26,
     "metadata": {},
     "output_type": "execute_result"
    }
   ],
   "source": [
    "list((zip(yemekListesi,kaloriListesi,gunListesi)))"
   ]
  },
  {
   "cell_type": "code",
   "execution_count": 27,
   "id": "21ef68a5",
   "metadata": {},
   "outputs": [],
   "source": [
    "ziplenmisListe = list((zip(yemekListesi,kaloriListesi,gunListesi)))"
   ]
  },
  {
   "cell_type": "code",
   "execution_count": 28,
   "id": "4f11104c",
   "metadata": {},
   "outputs": [
    {
     "name": "stdout",
     "output_type": "stream",
     "text": [
      "('muz', 100, 'pazartesi')\n",
      "('ananas', 200, 'salı')\n",
      "('elma', 300, 'çarşamba')\n"
     ]
    }
   ],
   "source": [
    "for eleman in ziplenmisListe:\n",
    "    print(eleman)"
   ]
  },
  {
   "cell_type": "markdown",
   "id": "96a668fa",
   "metadata": {},
   "source": [
    "## listeler ileri seviye"
   ]
  },
  {
   "cell_type": "code",
   "execution_count": 29,
   "id": "2cd86072",
   "metadata": {},
   "outputs": [],
   "source": [
    "listeOrnegi = []\n",
    "benimString = \"elifnur altuntaş\"\n",
    "\n",
    "for harf in benimString:\n",
    "    listeOrnegi.append(harf)"
   ]
  },
  {
   "cell_type": "code",
   "execution_count": 30,
   "id": "fb1c0b3e",
   "metadata": {},
   "outputs": [
    {
     "data": {
      "text/plain": [
       "['e',\n",
       " 'l',\n",
       " 'i',\n",
       " 'f',\n",
       " 'n',\n",
       " 'u',\n",
       " 'r',\n",
       " ' ',\n",
       " 'a',\n",
       " 'l',\n",
       " 't',\n",
       " 'u',\n",
       " 'n',\n",
       " 't',\n",
       " 'a',\n",
       " 'ş']"
      ]
     },
     "execution_count": 30,
     "metadata": {},
     "output_type": "execute_result"
    }
   ],
   "source": [
    "listeOrnegi"
   ]
  },
  {
   "cell_type": "code",
   "execution_count": 42,
   "id": "e8c2f4a7",
   "metadata": {},
   "outputs": [],
   "source": [
    "# öncelikle yeniListe diye bir listem olacak.\n",
    "# Sonra yeniString içerisindeki her bir elemanı al ve buraya ekle\n",
    "yeniString = \"elifnur altuntaş\""
   ]
  },
  {
   "cell_type": "code",
   "execution_count": 43,
   "id": "00b7874b",
   "metadata": {},
   "outputs": [],
   "source": [
    "yeniListe = [eleman for eleman in yeniString]"
   ]
  },
  {
   "cell_type": "code",
   "execution_count": 44,
   "id": "bacbb189",
   "metadata": {},
   "outputs": [
    {
     "data": {
      "text/plain": [
       "['e',\n",
       " 'l',\n",
       " 'i',\n",
       " 'f',\n",
       " 'n',\n",
       " 'u',\n",
       " 'r',\n",
       " ' ',\n",
       " 'a',\n",
       " 'l',\n",
       " 't',\n",
       " 'u',\n",
       " 'n',\n",
       " 't',\n",
       " 'a',\n",
       " 'ş']"
      ]
     },
     "execution_count": 44,
     "metadata": {},
     "output_type": "execute_result"
    }
   ],
   "source": [
    "yeniListe"
   ]
  },
  {
   "cell_type": "code",
   "execution_count": 45,
   "id": "cd6f3faf",
   "metadata": {},
   "outputs": [],
   "source": [
    "ikinciListeOrnegi = [numara * 5 for numara in range(0,10)]"
   ]
  },
  {
   "cell_type": "code",
   "execution_count": 46,
   "id": "ca72d552",
   "metadata": {},
   "outputs": [
    {
     "data": {
      "text/plain": [
       "[0, 5, 10, 15, 20, 25, 30, 35, 40, 45]"
      ]
     },
     "execution_count": 46,
     "metadata": {},
     "output_type": "execute_result"
    }
   ],
   "source": [
    "ikinciListeOrnegi"
   ]
  },
  {
   "cell_type": "code",
   "execution_count": 47,
   "id": "d4d5d41e",
   "metadata": {},
   "outputs": [],
   "source": [
    "# Yukarıdaki örnekle aynı ve range(0,10) demek yeterli . 0 dahil 15 e kadar(15 hariç) tüm sayıları al ve numara değişkenine ata. Sonra bu numaranın 5 ile çarpılmış halini ikinciListeOrnegi2 adlı boş listeye sırasıyla ekle. \n",
    "ikinciListeOrnegi2 = [numara * 5 for numara in list(range(0,10))]"
   ]
  },
  {
   "cell_type": "code",
   "execution_count": 48,
   "id": "9f464e61",
   "metadata": {},
   "outputs": [
    {
     "data": {
      "text/plain": [
       "[0, 5, 10, 15, 20, 25, 30, 35, 40, 45]"
      ]
     },
     "execution_count": 48,
     "metadata": {},
     "output_type": "execute_result"
    }
   ],
   "source": [
    "ikinciListeOrnegi2"
   ]
  },
  {
   "cell_type": "code",
   "execution_count": null,
   "id": "63105c8d",
   "metadata": {},
   "outputs": [],
   "source": []
  }
 ],
 "metadata": {
  "kernelspec": {
   "display_name": "Python 3 (ipykernel)",
   "language": "python",
   "name": "python3"
  },
  "language_info": {
   "codemirror_mode": {
    "name": "ipython",
    "version": 3
   },
   "file_extension": ".py",
   "mimetype": "text/x-python",
   "name": "python",
   "nbconvert_exporter": "python",
   "pygments_lexer": "ipython3",
   "version": "3.9.12"
  }
 },
 "nbformat": 4,
 "nbformat_minor": 5
}
