{
 "cells": [
  {
   "cell_type": "code",
   "execution_count": 1,
   "metadata": {},
   "outputs": [
    {
     "name": "stdout",
     "output_type": "stream",
     "text": [
      "İlk sayıyı giriniz: 10\n",
      "İkinci sayıyı giriniz: 20\n",
      "İşleminizi seçiniz (+ - * / ): +\n"
     ]
    },
    {
     "data": {
      "text/plain": [
       "'10 + 20 = 30'"
      ]
     },
     "execution_count": 1,
     "metadata": {},
     "output_type": "execute_result"
    }
   ],
   "source": [
    "def hesapla(a,b,islem):\n",
    "    \n",
    "    if islem == \"+\":\n",
    "        return (str(a) + \" + \" + str(b) + \" = \" + str(a+b))\n",
    "    if islem == \"-\":\n",
    "        return (str(a) + \" - \" + str(b) + \" = \" + str(a-b))\n",
    "    if islem == \"*\":\n",
    "        return (str(a) + \" * \" + str(b) + \" = \" + str(a*b))\n",
    "    if islem == \"/\":\n",
    "        return (str(a) + \" / \" + str(b) + \" = \" + str(a/b))\n",
    "\n",
    "a = int(input(\"İlk sayıyı giriniz: \"))\n",
    "b = int(input(\"İkinci sayıyı giriniz: \"))\n",
    "islem = input(\"İşleminizi seçiniz (+ - * / ): \")\n",
    "hesapla(a,b,islem)"
   ]
  },
  {
   "cell_type": "code",
   "execution_count": 2,
   "metadata": {},
   "outputs": [
    {
     "name": "stdout",
     "output_type": "stream",
     "text": [
      "İlk sayıyı giriniz: 10\n",
      "İkinci sayıyı giriniz: 20\n",
      "İşleminizi seçiniz (+ - * / ): /\n"
     ]
    },
    {
     "data": {
      "text/plain": [
       "'10 / 20 = 0.5'"
      ]
     },
     "execution_count": 2,
     "metadata": {},
     "output_type": "execute_result"
    }
   ],
   "source": [
    "def hesapla(x,y,islem):\n",
    "    \n",
    "    if islem == \"+\":\n",
    "        return (str(x) + \" + \" + str(y) + \" = \" + str(x+y))\n",
    "    if islem == \"-\":\n",
    "        return (str(x) + \" - \" + str(y) + \" = \" + str(x-y))\n",
    "    if islem == \"*\":\n",
    "        return (str(x) + \" * \" + str(y) + \" = \" + str(x*y))\n",
    "    if islem == \"/\":\n",
    "        return (str(x) + \" / \" + str(y) + \" = \" + str(x/y))\n",
    "\n",
    "a = int(input(\"İlk sayıyı giriniz: \"))\n",
    "b = int(input(\"İkinci sayıyı giriniz: \"))\n",
    "islem = input(\"İşleminizi seçiniz (+ - * / ): \")\n",
    "hesapla(a,b,islem)"
   ]
  },
  {
   "cell_type": "code",
   "execution_count": null,
   "metadata": {},
   "outputs": [
    {
     "name": "stdout",
     "output_type": "stream",
     "text": [
      "İlk sayıyı giriniz: 10\n",
      "İkinci sayıyı giriniz: 20\n",
      "İşleminizi seçiniz (+ - * / ): elif\n",
      "Lütfen şu işlemlerden birini seçiniz: +-*/\n",
      "İlk sayıyı giriniz: 10\n",
      "İkinci sayıyı giriniz: 20\n",
      "İşleminizi seçiniz (+ - * / ): *\n",
      "10 * 20 = 200\n",
      "İlk sayıyı giriniz: atıl\n",
      "Lütfen sayıları düzgün giriniz !\n",
      "İlk sayıyı giriniz: 20\n",
      "İkinci sayıyı giriniz: el\n",
      "Lütfen sayıları düzgün giriniz !\n",
      "İlk sayıyı giriniz: 23\n",
      "İkinci sayıyı giriniz: 34\n",
      "İşleminizi seçiniz (+ - * / ): /\n",
      "23 / 34 = 0.6764705882352942\n"
     ]
    }
   ],
   "source": [
    "def hesapla(a,b,islem):\n",
    "    \n",
    "    if islem not in \"+-*/\":\n",
    "        return \"Lütfen şu işlemlerden birini seçiniz: +-*/\"\n",
    "       \n",
    "    \n",
    "    if islem == \"+\":\n",
    "        return (str(a) + \" + \" + str(b) + \" = \" + str(a+b))\n",
    "    if islem == \"-\":\n",
    "        return (str(a) + \" - \" + str(b) + \" = \" + str(a-b))\n",
    "    if islem == \"*\":\n",
    "        return (str(a) + \" * \" + str(b) + \" = \" + str(a*b))\n",
    "    if islem == \"/\":\n",
    "        return (str(a) + \" / \" + str(b) + \" = \" + str(a/b))\n",
    "\n",
    "\n",
    "while True:\n",
    "    try:\n",
    "        a = int(input(\"İlk sayıyı giriniz: \"))\n",
    "        b = int(input(\"İkinci sayıyı giriniz: \"))\n",
    "        islem = input(\"İşleminizi seçiniz (+ - * / ): \")\n",
    "        print(hesapla(a,b,islem))\n",
    "    except:\n",
    "        print(\"Lütfen sayıları düzgün giriniz !\")"
   ]
  },
  {
   "cell_type": "code",
   "execution_count": null,
   "metadata": {},
   "outputs": [],
   "source": []
  }
 ],
 "metadata": {
  "kernelspec": {
   "display_name": "Python 3 (ipykernel)",
   "language": "python",
   "name": "python3"
  },
  "language_info": {
   "codemirror_mode": {
    "name": "ipython",
    "version": 3
   },
   "file_extension": ".py",
   "mimetype": "text/x-python",
   "name": "python",
   "nbconvert_exporter": "python",
   "pygments_lexer": "ipython3",
   "version": "3.9.12"
  }
 },
 "nbformat": 4,
 "nbformat_minor": 4
}
