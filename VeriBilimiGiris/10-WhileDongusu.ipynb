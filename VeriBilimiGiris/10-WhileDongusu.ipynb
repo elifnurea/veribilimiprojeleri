{
 "cells": [
  {
   "cell_type": "code",
   "execution_count": 1,
   "id": "cc81e546",
   "metadata": {},
   "outputs": [
    {
     "name": "stdout",
     "output_type": "stream",
     "text": [
      "0\n",
      "1\n",
      "2\n",
      "3\n",
      "4\n",
      "5\n",
      "6\n",
      "7\n",
      "8\n",
      "9\n"
     ]
    }
   ],
   "source": [
    "x = 0\n",
    "while x < 10:\n",
    "    print(x)\n",
    "    x = x + 1"
   ]
  },
  {
   "cell_type": "code",
   "execution_count": 2,
   "id": "5a440e4a",
   "metadata": {},
   "outputs": [],
   "source": [
    "benimListem = [1,2,3,4,5]"
   ]
  },
  {
   "cell_type": "code",
   "execution_count": 3,
   "id": "1a1e2e95",
   "metadata": {},
   "outputs": [
    {
     "data": {
      "text/plain": [
       "5"
      ]
     },
     "execution_count": 3,
     "metadata": {},
     "output_type": "execute_result"
    }
   ],
   "source": [
    "benimListem.pop()"
   ]
  },
  {
   "cell_type": "code",
   "execution_count": 4,
   "id": "3a40f9e3",
   "metadata": {},
   "outputs": [
    {
     "data": {
      "text/plain": [
       "[1, 2, 3, 4]"
      ]
     },
     "execution_count": 4,
     "metadata": {},
     "output_type": "execute_result"
    }
   ],
   "source": [
    "benimListem"
   ]
  },
  {
   "cell_type": "code",
   "execution_count": 5,
   "id": "b47bf1d4",
   "metadata": {},
   "outputs": [],
   "source": [
    "benimListem.append(5)"
   ]
  },
  {
   "cell_type": "code",
   "execution_count": 6,
   "id": "ad72f33a",
   "metadata": {},
   "outputs": [
    {
     "data": {
      "text/plain": [
       "[1, 2, 3, 4, 5]"
      ]
     },
     "execution_count": 6,
     "metadata": {},
     "output_type": "execute_result"
    }
   ],
   "source": [
    "benimListem"
   ]
  },
  {
   "cell_type": "code",
   "execution_count": 7,
   "id": "3e76052d",
   "metadata": {},
   "outputs": [
    {
     "name": "stdout",
     "output_type": "stream",
     "text": [
      "3 hala listenin içerisinde\n",
      "3 hala listenin içerisinde\n",
      "3 hala listenin içerisinde\n"
     ]
    }
   ],
   "source": [
    "while 3 in benimListem:\n",
    "    print(\"3 hala listenin içerisinde\")\n",
    "    benimListem.pop()"
   ]
  },
  {
   "cell_type": "code",
   "execution_count": 8,
   "id": "7f4e9df6",
   "metadata": {},
   "outputs": [
    {
     "name": "stdout",
     "output_type": "stream",
     "text": [
      "0\n",
      "1\n",
      "2\n",
      "3\n"
     ]
    }
   ],
   "source": [
    "numara = 0\n",
    "while numara < 5:\n",
    "    if numara == 4:\n",
    "        break\n",
    "    print(numara)\n",
    "    numara = numara + 1"
   ]
  },
  {
   "cell_type": "code",
   "execution_count": 9,
   "id": "1fbb4f01",
   "metadata": {
    "scrolled": true
   },
   "outputs": [
    {
     "name": "stdout",
     "output_type": "stream",
     "text": [
      "Yeni değişken'in güncel değeri: 0\n",
      "Yeni değişken'in güncel değeri: 1\n",
      "Yeni değişken'in güncel değeri: 2\n",
      "Yeni değişken'in güncel değeri: 3\n",
      "Yeni değişken'in güncel değeri: 4\n",
      "Yeni değişken'in güncel değeri: 5\n",
      "Yeni değişken'in güncel değeri: 6\n",
      "Yeni değişken'in güncel değeri: 7\n",
      "Yeni değişken'in güncel değeri: 8\n",
      "Yeni değişken'in güncel değeri: 9\n",
      "Yeni değişken'in güncel değeri: 10\n",
      "Yeni değişken'in güncel değeri: 11\n",
      "Yeni değişken'in güncel değeri: 12\n",
      "Yeni değişken'in güncel değeri: 13\n",
      "Yeni değişken'in güncel değeri: 14\n"
     ]
    }
   ],
   "source": [
    "yeniDegisken = 0\n",
    "while yeniDegisken < 15:\n",
    "    print(\"Yeni değişken'in güncel değeri: \" + str(yeniDegisken))\n",
    "    yeniDegisken += 1"
   ]
  },
  {
   "cell_type": "code",
   "execution_count": 10,
   "id": "0ae68cfa",
   "metadata": {},
   "outputs": [
    {
     "name": "stdout",
     "output_type": "stream",
     "text": [
      "Yeni değişken'in güncel değeri:  0\n",
      "Yeni değişken'in güncel değeri:  1\n",
      "Yeni değişken'in güncel değeri:  2\n",
      "Yeni değişken'in güncel değeri:  3\n",
      "Yeni değişken'in güncel değeri:  4\n",
      "Yeni değişken'in güncel değeri:  5\n",
      "Yeni değişken'in güncel değeri:  6\n",
      "Yeni değişken'in güncel değeri:  7\n",
      "Yeni değişken'in güncel değeri:  8\n",
      "Yeni değişken'in güncel değeri:  9\n",
      "Yeni değişken'in güncel değeri:  10\n",
      "Yeni değişken'in güncel değeri:  11\n",
      "Yeni değişken'in güncel değeri:  12\n",
      "Yeni değişken'in güncel değeri:  13\n",
      "Yeni değişken'in güncel değeri:  14\n"
     ]
    }
   ],
   "source": [
    "yeniDegisken = 0\n",
    "while yeniDegisken < 15:\n",
    "    print(f\"Yeni değişken'in güncel değeri: \",yeniDegisken)\n",
    "    yeniDegisken += 1"
   ]
  },
  {
   "cell_type": "code",
   "execution_count": 11,
   "id": "f7549350",
   "metadata": {},
   "outputs": [
    {
     "name": "stdout",
     "output_type": "stream",
     "text": [
      "Yeni değişken'in güncel değeri: 0\n",
      "Yeni değişken'in güncel değeri: 1\n",
      "Yeni değişken'in güncel değeri: 2\n",
      "Yeni değişken'in güncel değeri: 3\n",
      "Yeni değişken'in güncel değeri: 4\n",
      "Yeni değişken'in güncel değeri: 5\n",
      "Yeni değişken'in güncel değeri: 6\n",
      "Yeni değişken'in güncel değeri: 7\n",
      "Yeni değişken'in güncel değeri: 8\n",
      "Yeni değişken'in güncel değeri: 9\n",
      "Yeni değişken'in güncel değeri: 10\n",
      "Yeni değişken'in güncel değeri: 11\n",
      "Yeni değişken'in güncel değeri: 12\n",
      "Yeni değişken'in güncel değeri: 13\n",
      "Yeni değişken'in güncel değeri: 14\n"
     ]
    }
   ],
   "source": [
    "yeniDegisken = 0\n",
    "while yeniDegisken < 15:\n",
    "    print(f\"Yeni değişken'in güncel değeri: {yeniDegisken}\")\n",
    "    yeniDegisken += 1"
   ]
  },
  {
   "cell_type": "code",
   "execution_count": null,
   "id": "1d30c496",
   "metadata": {},
   "outputs": [],
   "source": []
  }
 ],
 "metadata": {
  "kernelspec": {
   "display_name": "Python 3 (ipykernel)",
   "language": "python",
   "name": "python3"
  },
  "language_info": {
   "codemirror_mode": {
    "name": "ipython",
    "version": 3
   },
   "file_extension": ".py",
   "mimetype": "text/x-python",
   "name": "python",
   "nbconvert_exporter": "python",
   "pygments_lexer": "ipython3",
   "version": "3.9.12"
  }
 },
 "nbformat": 4,
 "nbformat_minor": 5
}
